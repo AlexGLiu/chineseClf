{
 "cells": [
  {
   "cell_type": "code",
   "execution_count": 1,
   "id": "3a3d4663-89ff-4866-955b-757c94165d62",
   "metadata": {},
   "outputs": [],
   "source": [
    "import pandas as pd\n",
    "import numpy as np\n",
    "import json\n",
    "import sys, os"
   ]
  },
  {
   "cell_type": "code",
   "execution_count": 2,
   "id": "998894a4-e6c8-41e4-a1dc-04c8297ef436",
   "metadata": {},
   "outputs": [],
   "source": [
    "data_dir = 'wiki_zh_2019/wiki_zh/'"
   ]
  },
  {
   "cell_type": "code",
   "execution_count": 3,
   "id": "81293a47-122a-404d-9b0b-a302b71c0dca",
   "metadata": {},
   "outputs": [],
   "source": [
    "folders = os.listdir(data_dir)"
   ]
  },
  {
   "cell_type": "code",
   "execution_count": 4,
   "id": "a9b79499-aaa4-44bb-acc3-53456c79f1e3",
   "metadata": {},
   "outputs": [
    {
     "data": {
      "text/plain": [
       "['AA', 'AB', 'AC', 'AD', 'AE', 'AF', 'AG', 'AH', 'AI', 'AJ', 'AK', 'AL', 'AM']"
      ]
     },
     "execution_count": 4,
     "metadata": {},
     "output_type": "execute_result"
    }
   ],
   "source": [
    "folders"
   ]
  },
  {
   "cell_type": "code",
   "execution_count": 8,
   "id": "93399395-2bc8-478d-b028-c1c30a000b05",
   "metadata": {},
   "outputs": [
    {
     "name": "stdout",
     "output_type": "stream",
     "text": [
      "AE\n"
     ]
    }
   ],
   "source": [
    "folder = np.random.choice(folders)\n",
    "print(folder)"
   ]
  },
  {
   "cell_type": "code",
   "execution_count": 31,
   "id": "ac9faafd-d925-46a1-a5de-08b48510d224",
   "metadata": {},
   "outputs": [
    {
     "name": "stdout",
     "output_type": "stream",
     "text": [
      "wiki_20\n"
     ]
    }
   ],
   "source": [
    "files = os.listdir(os.path.join(data_dir, folder))\n",
    "file = np.random.choice(files)\n",
    "print(file)"
   ]
  },
  {
   "cell_type": "code",
   "execution_count": 32,
   "id": "d5f4b8ee-b862-4c22-a0ee-da988bb8b310",
   "metadata": {},
   "outputs": [],
   "source": [
    "with open(os.path.join(data_dir, folder, file), 'r', encoding='utf-8') as file:\n",
    "    txt = file.readlines()"
   ]
  },
  {
   "cell_type": "code",
   "execution_count": 54,
   "id": "d21cfdc8-2989-49fd-9784-11dae2dec1a6",
   "metadata": {},
   "outputs": [
    {
     "data": {
      "text/plain": [
       "39"
      ]
     },
     "execution_count": 54,
     "metadata": {},
     "output_type": "execute_result"
    }
   ],
   "source": [
    "file_num = np.random.choice(len(txt))\n",
    "file_num"
   ]
  },
  {
   "cell_type": "code",
   "execution_count": 57,
   "id": "0184fba7-f14a-4df6-937a-9137b38e208c",
   "metadata": {},
   "outputs": [
    {
     "name": "stdout",
     "output_type": "stream",
     "text": [
      "老夫子漫画角色列表\n",
      "\n",
      "老夫子漫画角色列表是显示老夫子漫画中的角色:\n",
      "\n",
      "漫画主角，45岁，是秦先生及大蕃薯的好朋友，单身汉。老夫子的女朋友为陈小姐（有时则是林小姐），常常向她示爱，都不成功，而他的死对头则是老赵，常常处处争先。他头戴黑帽，身穿黄黑色衣服和蓝色长裤，著着黑色「伯父鞋」的形像深入民心（除了在武侠世界外），加上他夸张、无聊、好管闲事和自作聪明的性格，在华人地区很难找到一个不认识老夫子的人。而且近年来更有人制作老夫子衣服，并于各地出售。\n",
      "\n",
      "王泽曾表示：「老夫子不能结婚！老夫子就是活泼、喜欢玩、不务正业、到处历险、把事情看歪，如果给老夫子一个家庭，这个故事就玩不下去了！」。\n",
      "\n",
      "主角老夫子被传是抄内地作家朋弟的《老夫子》，王泽（原名王家禧）则一口否认。\n",
      "\n",
      "老夫子的朋友，外貌矮胖，只有三根头发，身材矮肥，性格好吃懒做，戴著一副眼镜，常穿一款蓝加黑中间有两个大白点的老土衣服，和老夫子、秦先生是好朋友，常常都在减肥，却不曾成功，在漫画中常用来讽刺减肥人士和好吃懒做的人。他是《老夫子》三人组中最后面世的，因为王泽早年有漫画《老夫子与秦先生》。\n",
      "\n",
      "大番薯的作者是王泽，但近来有人提出大番薯的作者是朋弟，因朋弟的角色老白薯和大番薯很相像。\n",
      "\n",
      "老夫子的朋友，外貌年轻高瘦，与主角老夫子和大蕃薯均为好朋友，林小姐是其女朋友，性格幽默、自豪，身材高瘦，与其他两位主角不同，他不只爱穿一款衣服，有时穿格仔衫，有时穿西装，更会穿新潮衣服。\n",
      "\n",
      "此外，秦先生比老夫子和大蕃薯更早面世，因为在王泽早年又有漫画《秦先生》。秦先生的作者为王泽，本来叫「蠢先生」\n",
      "\n",
      "老夫子的死对头（一般把赵读成粤语第二声，即「沼」音），他常穿西装及结领带。为人吝啬，爱贪小便宜，喜作弄老夫子（例如摔倒他、吃了他的东西、向他淋水……），但有时会被老夫子反击或阴谋败露。已婚，其妻子对老赵十分严厉，所以老夫子也曾利用老赵的老婆来教训他。另外，他有一女儿和一儿子。\n",
      "\n",
      "老夫子的另一个死对头。\n",
      "\n",
      "漫画中的女主角，也是老夫子的追求对象。她样子娟好，身材适中，蓄短发，常穿连身裙及高跟鞋。老夫子曾多次向她求婚，然而却因各种因素(如中途睡著，空想)而不曾成功，老夫子向她求婚的对白都是：「你是我的灵魂，你是我的生命，请你嫁给我吧！」，又或是一面弹吉他，一面唱情歌，而陈小姐对老夫子也往往不理不睬。\n",
      "\n",
      "在二十一世纪时期，其服装有趋向现代化。\n",
      "\n",
      "陈小姐在现实中的原型是王泽的妻子陈玲玲。\n",
      "\n",
      "\n",
      "老夫子的表妹，身材高大，也很肥胖，双手孔武有力，很会做粗活，而且是一位武林高手，但是却是一个典型的土包子，而且很笨。王泽把她写成一个六、七十年代典型的中国大陆来香港移民的样子。她暗恋老夫子，然而老夫子对她甚无好感，故每当表妹找他麻烦，老夫子多会找对表妹有意的大番薯出头。\n",
      "老夫子的母亲，亦是一位武林高手。喜欢到舞厅跳舞。\n",
      "\n",
      "秦先生的女朋友，第二女主角，为一名打扮时髦，衣著花俏的女性，她在书中有两个身份，有时是秦先生的女朋友，但更多时候是令老夫子迷倒的女性，但她从来不把老夫子放在眼内，而且对他非常冷漠，而她也常令老夫子和陈小姐结不成婚。\n",
      "老夫子的邻居\n",
      "漫画中为老夫子的邻居黄小姐的儿子，他扮演了大部分的小童角色，由于是邻居，所以每当黄小姐没空照顾小明时，通常由老夫子暂时照顾，漫画中他十分聪明，什么事都一学就会，也 很会耍弄别人（例如用魔术面具），老夫子常常拿他没办法，同时他也常常向老夫子诉苦，老夫子也乐意帮助他。\n",
      "\n",
      "老赵的女儿\n",
      "老夫子的邻居\n",
      "老夫子的表姪子\n",
      "阿金的儿子，老夫子是他的表叔公\n",
      "\n",
      "小女孩，曾于酒吧歌唱\n",
      "曾在漫画中出现过，长像和老夫子神似，但有一把白胡子，眼神也比较凶。\n",
      "\n",
      "王司马漫画《牛仔》的角色，出现于《老夫子》只是出于客串性质。\n",
      "\n",
      "漫画中和老夫子有亦敌亦友的关系,也可以说是[第二号死对头]，在第56单行本上出现过,之后再没出现过。他有一个凶恶的太太，老夫子在和他争斗不敌于他的时候，老夫子总叫契太太出手，扭转形势。\n",
      "\n",
      "《牛仔》的牛仔，由牛仔作者王司马绘画，客串性质出现。\n",
      "\n",
      "\n",
      "\n"
     ]
    }
   ],
   "source": [
    "print(json.loads(txt[file_num])['text'])"
   ]
  },
  {
   "cell_type": "code",
   "execution_count": 58,
   "id": "8affea57-789d-4db0-bfe2-51be8dfa1562",
   "metadata": {},
   "outputs": [
    {
     "name": "stdout",
     "output_type": "stream",
     "text": [
      "^C\n",
      "Collecting ltp\n",
      "  Downloading ltp-4.2.14-py3-none-any.whl.metadata (13 kB)\n",
      "Collecting ltp-core>=0.1.3 (from ltp)\n",
      "  Downloading ltp_core-0.1.4-py3-none-any.whl.metadata (2.7 kB)\n",
      "Collecting ltp-extension>=0.1.9 (from ltp)\n",
      "  Downloading ltp_extension-0.1.13-cp37-abi3-win_amd64.whl.metadata (7.0 kB)\n",
      "Collecting huggingface-hub>=0.8.0 (from ltp)\n",
      "  Downloading huggingface_hub-0.30.1-py3-none-any.whl.metadata (13 kB)\n",
      "Collecting filelock (from huggingface-hub>=0.8.0->ltp)\n",
      "  Downloading filelock-3.18.0-py3-none-any.whl.metadata (2.9 kB)\n",
      "Collecting fsspec>=2023.5.0 (from huggingface-hub>=0.8.0->ltp)\n",
      "  Downloading fsspec-2025.3.2-py3-none-any.whl.metadata (11 kB)\n",
      "Requirement already satisfied: packaging>=20.9 in c:\\users\\bullo\\.conda\\envs\\work\\lib\\site-packages (from huggingface-hub>=0.8.0->ltp) (24.2)\n",
      "Requirement already satisfied: pyyaml>=5.1 in c:\\users\\bullo\\.conda\\envs\\work\\lib\\site-packages (from huggingface-hub>=0.8.0->ltp) (6.0.2)\n",
      "Requirement already satisfied: requests in c:\\users\\bullo\\.conda\\envs\\work\\lib\\site-packages (from huggingface-hub>=0.8.0->ltp) (2.32.3)\n",
      "Collecting tqdm>=4.42.1 (from huggingface-hub>=0.8.0->ltp)\n",
      "  Downloading tqdm-4.67.1-py3-none-any.whl.metadata (57 kB)\n",
      "Requirement already satisfied: typing-extensions>=3.7.4.3 in c:\\users\\bullo\\.conda\\envs\\work\\lib\\site-packages (from huggingface-hub>=0.8.0->ltp) (4.12.2)\n",
      "Collecting torch>=1.6.0 (from ltp-core>=0.1.3->ltp)\n",
      "  Downloading torch-2.6.0-cp312-cp312-win_amd64.whl.metadata (28 kB)\n",
      "Collecting transformers>=4.0.0 (from ltp-core>=0.1.3->ltp)\n",
      "  Downloading transformers-4.50.3-py3-none-any.whl.metadata (39 kB)\n",
      "Collecting networkx (from torch>=1.6.0->ltp-core>=0.1.3->ltp)\n",
      "  Downloading networkx-3.4.2-py3-none-any.whl.metadata (6.3 kB)\n",
      "Requirement already satisfied: jinja2 in c:\\users\\bullo\\.conda\\envs\\work\\lib\\site-packages (from torch>=1.6.0->ltp-core>=0.1.3->ltp) (3.1.5)\n",
      "Requirement already satisfied: setuptools in c:\\users\\bullo\\.conda\\envs\\work\\lib\\site-packages (from torch>=1.6.0->ltp-core>=0.1.3->ltp) (72.1.0)\n",
      "Collecting sympy==1.13.1 (from torch>=1.6.0->ltp-core>=0.1.3->ltp)\n",
      "  Downloading sympy-1.13.1-py3-none-any.whl.metadata (12 kB)\n",
      "Collecting mpmath<1.4,>=1.1.0 (from sympy==1.13.1->torch>=1.6.0->ltp-core>=0.1.3->ltp)\n",
      "  Downloading mpmath-1.3.0-py3-none-any.whl.metadata (8.6 kB)\n",
      "Requirement already satisfied: colorama in c:\\users\\bullo\\.conda\\envs\\work\\lib\\site-packages (from tqdm>=4.42.1->huggingface-hub>=0.8.0->ltp) (0.4.6)\n",
      "Requirement already satisfied: numpy>=1.17 in c:\\users\\bullo\\.conda\\envs\\work\\lib\\site-packages (from transformers>=4.0.0->ltp-core>=0.1.3->ltp) (2.2.2)\n",
      "Collecting regex!=2019.12.17 (from transformers>=4.0.0->ltp-core>=0.1.3->ltp)\n",
      "  Downloading regex-2024.11.6-cp312-cp312-win_amd64.whl.metadata (41 kB)\n",
      "Collecting tokenizers<0.22,>=0.21 (from transformers>=4.0.0->ltp-core>=0.1.3->ltp)\n",
      "  Downloading tokenizers-0.21.1-cp39-abi3-win_amd64.whl.metadata (6.9 kB)\n",
      "Collecting safetensors>=0.4.3 (from transformers>=4.0.0->ltp-core>=0.1.3->ltp)\n",
      "  Downloading safetensors-0.5.3-cp38-abi3-win_amd64.whl.metadata (3.9 kB)\n",
      "Requirement already satisfied: charset-normalizer<4,>=2 in c:\\users\\bullo\\.conda\\envs\\work\\lib\\site-packages (from requests->huggingface-hub>=0.8.0->ltp) (3.3.2)\n",
      "Requirement already satisfied: idna<4,>=2.5 in c:\\users\\bullo\\.conda\\envs\\work\\lib\\site-packages (from requests->huggingface-hub>=0.8.0->ltp) (3.7)\n",
      "Requirement already satisfied: urllib3<3,>=1.21.1 in c:\\users\\bullo\\.conda\\envs\\work\\lib\\site-packages (from requests->huggingface-hub>=0.8.0->ltp) (2.3.0)\n",
      "Requirement already satisfied: certifi>=2017.4.17 in c:\\users\\bullo\\.conda\\envs\\work\\lib\\site-packages (from requests->huggingface-hub>=0.8.0->ltp) (2025.1.31)\n",
      "Requirement already satisfied: MarkupSafe>=2.0 in c:\\users\\bullo\\.conda\\envs\\work\\lib\\site-packages (from jinja2->torch>=1.6.0->ltp-core>=0.1.3->ltp) (3.0.2)\n",
      "Downloading ltp-4.2.14-py3-none-any.whl (20 kB)\n",
      "Downloading huggingface_hub-0.30.1-py3-none-any.whl (481 kB)\n",
      "Downloading ltp_core-0.1.4-py3-none-any.whl (66 kB)\n",
      "Downloading ltp_extension-0.1.13-cp37-abi3-win_amd64.whl (707 kB)\n",
      "   ---------------------------------------- 0.0/707.5 kB ? eta -:--:--\n",
      "   ---------------------------------------- 707.5/707.5 kB 9.5 MB/s eta 0:00:00\n",
      "Downloading fsspec-2025.3.2-py3-none-any.whl (194 kB)\n",
      "Downloading torch-2.6.0-cp312-cp312-win_amd64.whl (204.1 MB)\n",
      "   ---------------------------------------- 0.0/204.1 MB ? eta -:--:--\n",
      "   - -------------------------------------- 5.8/204.1 MB 27.1 MB/s eta 0:00:08\n",
      "   -- ------------------------------------- 14.2/204.1 MB 34.2 MB/s eta 0:00:06\n",
      "   ---- ----------------------------------- 23.9/204.1 MB 37.7 MB/s eta 0:00:05\n",
      "   ------ --------------------------------- 31.5/204.1 MB 37.0 MB/s eta 0:00:05\n",
      "   ------ --------------------------------- 35.1/204.1 MB 33.3 MB/s eta 0:00:06\n",
      "   -------- ------------------------------- 42.2/204.1 MB 33.1 MB/s eta 0:00:05\n",
      "   --------- ------------------------------ 49.0/204.1 MB 32.9 MB/s eta 0:00:05\n",
      "   ---------- ----------------------------- 55.6/204.1 MB 32.5 MB/s eta 0:00:05\n",
      "   ----------- ---------------------------- 59.0/204.1 MB 31.3 MB/s eta 0:00:05\n",
      "   ----------- ---------------------------- 60.8/204.1 MB 28.9 MB/s eta 0:00:05\n",
      "   ------------ --------------------------- 62.7/204.1 MB 27.0 MB/s eta 0:00:06\n",
      "   ------------ --------------------------- 65.5/204.1 MB 25.9 MB/s eta 0:00:06\n",
      "   ------------- -------------------------- 68.7/204.1 MB 25.0 MB/s eta 0:00:06\n",
      "   -------------- ------------------------- 72.4/204.1 MB 24.4 MB/s eta 0:00:06\n",
      "   -------------- ------------------------- 76.0/204.1 MB 23.9 MB/s eta 0:00:06\n",
      "   --------------- ------------------------ 79.7/204.1 MB 23.4 MB/s eta 0:00:06\n",
      "   ---------------- ----------------------- 82.8/204.1 MB 23.0 MB/s eta 0:00:06\n",
      "   ---------------- ----------------------- 86.2/204.1 MB 22.6 MB/s eta 0:00:06\n",
      "   ----------------- ---------------------- 89.9/204.1 MB 22.2 MB/s eta 0:00:06\n",
      "   ------------------ --------------------- 93.8/204.1 MB 22.1 MB/s eta 0:00:05\n",
      "   ------------------- -------------------- 97.8/204.1 MB 21.9 MB/s eta 0:00:05\n",
      "   ------------------- ------------------- 101.7/204.1 MB 21.8 MB/s eta 0:00:05\n",
      "   -------------------- ------------------ 104.9/204.1 MB 21.5 MB/s eta 0:00:05\n",
      "   -------------------- ------------------ 108.3/204.1 MB 21.3 MB/s eta 0:00:05\n",
      "   --------------------- ----------------- 111.7/204.1 MB 21.0 MB/s eta 0:00:05\n",
      "   --------------------- ----------------- 114.6/204.1 MB 20.7 MB/s eta 0:00:05\n",
      "   ---------------------- ---------------- 116.9/204.1 MB 20.3 MB/s eta 0:00:05\n",
      "   ---------------------- ---------------- 119.3/204.1 MB 20.0 MB/s eta 0:00:05\n",
      "   ----------------------- --------------- 121.9/204.1 MB 19.7 MB/s eta 0:00:05\n",
      "   ----------------------- --------------- 124.8/204.1 MB 19.5 MB/s eta 0:00:05\n",
      "   ------------------------ -------------- 127.9/204.1 MB 19.4 MB/s eta 0:00:04\n",
      "   ------------------------- ------------- 131.3/204.1 MB 19.3 MB/s eta 0:00:04\n",
      "   ------------------------- ------------- 135.0/204.1 MB 19.2 MB/s eta 0:00:04\n",
      "   -------------------------- ------------ 138.9/204.1 MB 19.2 MB/s eta 0:00:04\n",
      "   --------------------------- ----------- 143.1/204.1 MB 19.2 MB/s eta 0:00:04\n",
      "   ---------------------------- ---------- 147.3/204.1 MB 19.2 MB/s eta 0:00:03\n",
      "   ---------------------------- ---------- 150.7/204.1 MB 19.1 MB/s eta 0:00:03\n",
      "   ----------------------------- --------- 154.1/204.1 MB 19.0 MB/s eta 0:00:03\n",
      "   ------------------------------ -------- 157.3/204.1 MB 19.0 MB/s eta 0:00:03\n",
      "   ------------------------------ -------- 160.4/204.1 MB 18.8 MB/s eta 0:00:03\n",
      "   ------------------------------- ------- 163.6/204.1 MB 18.7 MB/s eta 0:00:03\n",
      "   ------------------------------- ------- 167.0/204.1 MB 18.7 MB/s eta 0:00:02\n",
      "   -------------------------------- ------ 170.7/204.1 MB 18.6 MB/s eta 0:00:02\n",
      "   --------------------------------- ----- 174.6/204.1 MB 18.6 MB/s eta 0:00:02\n",
      "   ---------------------------------- ---- 178.8/204.1 MB 18.6 MB/s eta 0:00:02\n",
      "   ----------------------------------- --- 183.2/204.1 MB 18.7 MB/s eta 0:00:02\n",
      "   ----------------------------------- --- 188.0/204.1 MB 18.7 MB/s eta 0:00:01\n",
      "   ------------------------------------ -- 191.1/204.1 MB 18.7 MB/s eta 0:00:01\n",
      "   ------------------------------------- - 195.0/204.1 MB 18.7 MB/s eta 0:00:01\n",
      "   --------------------------------------  199.0/204.1 MB 18.6 MB/s eta 0:00:01\n",
      "   --------------------------------------  202.9/204.1 MB 18.6 MB/s eta 0:00:01\n",
      "   --------------------------------------  203.9/204.1 MB 18.5 MB/s eta 0:00:01\n",
      "   --------------------------------------  203.9/204.1 MB 18.5 MB/s eta 0:00:01\n",
      "   --------------------------------------  203.9/204.1 MB 18.5 MB/s eta 0:00:01\n",
      "   --------------------------------------  203.9/204.1 MB 18.5 MB/s eta 0:00:01\n",
      "   --------------------------------------  203.9/204.1 MB 18.5 MB/s eta 0:00:01\n",
      "   --------------------------------------- 204.1/204.1 MB 17.0 MB/s eta 0:00:00\n",
      "Downloading sympy-1.13.1-py3-none-any.whl (6.2 MB)\n",
      "   ---------------------------------------- 0.0/6.2 MB ? eta -:--:--\n",
      "   ---------------------- ----------------- 3.4/6.2 MB 16.8 MB/s eta 0:00:01\n",
      "   -------------------------------------- - 6.0/6.2 MB 16.1 MB/s eta 0:00:01\n",
      "   ---------------------------------------- 6.2/6.2 MB 14.0 MB/s eta 0:00:00\n",
      "Downloading tqdm-4.67.1-py3-none-any.whl (78 kB)\n",
      "Downloading transformers-4.50.3-py3-none-any.whl (10.2 MB)\n",
      "   ---------------------------------------- 0.0/10.2 MB ? eta -:--:--\n",
      "   ------------- -------------------------- 3.4/10.2 MB 16.7 MB/s eta 0:00:01\n",
      "   --------------------------- ------------ 7.1/10.2 MB 17.4 MB/s eta 0:00:01\n",
      "   ---------------------------------------  10.0/10.2 MB 17.7 MB/s eta 0:00:01\n",
      "   ---------------------------------------- 10.2/10.2 MB 15.9 MB/s eta 0:00:00\n",
      "Downloading filelock-3.18.0-py3-none-any.whl (16 kB)\n",
      "Downloading regex-2024.11.6-cp312-cp312-win_amd64.whl (273 kB)\n",
      "Downloading safetensors-0.5.3-cp38-abi3-win_amd64.whl (308 kB)\n",
      "Downloading tokenizers-0.21.1-cp39-abi3-win_amd64.whl (2.4 MB)\n",
      "   ---------------------------------------- 0.0/2.4 MB ? eta -:--:--\n",
      "   ---------------------------------------- 2.4/2.4 MB 15.5 MB/s eta 0:00:00\n",
      "Downloading networkx-3.4.2-py3-none-any.whl (1.7 MB)\n",
      "   ---------------------------------------- 0.0/1.7 MB ? eta -:--:--\n",
      "   ---------------------------------------- 1.7/1.7 MB 15.5 MB/s eta 0:00:00\n",
      "Downloading mpmath-1.3.0-py3-none-any.whl (536 kB)\n",
      "   ---------------------------------------- 0.0/536.2 kB ? eta -:--:--\n",
      "   --------------------------------------- 536.2/536.2 kB 17.1 MB/s eta 0:00:00\n",
      "Installing collected packages: mpmath, ltp-extension, tqdm, sympy, safetensors, regex, networkx, fsspec, filelock, torch, huggingface-hub, tokenizers, transformers, ltp-core, ltp\n"
     ]
    },
    {
     "name": "stderr",
     "output_type": "stream",
     "text": [
      "WARNING: Package 'ltp-core' has an invalid Requires-Python: Invalid specifier: '>=3.6.*'\n",
      "ERROR: Could not install packages due to an OSError: [WinError 32] The process cannot access the file because it is being used by another process: 'C:\\\\Users\\\\bullo\\\\.conda\\\\envs\\\\work\\\\Lib\\\\site-packages\\\\fsspec\\\\__init__.py'\n",
      "Consider using the `--user` option or check the permissions.\n",
      "\n"
     ]
    }
   ],
   "source": [
    "!pip install ltp"
   ]
  },
  {
   "cell_type": "code",
   "execution_count": null,
   "id": "34135ffe-7782-4e16-908b-835b333a2042",
   "metadata": {},
   "outputs": [],
   "source": [
    "from ltp import LTP\n",
    "from collections import defaultdict\n",
    "import pandas as pd\n",
    "\n",
    "# Initialize LTP (download model automatically)\n",
    "ltp = LTP()\n",
    "\n",
    "def detect_measure_words(texts):\n",
    "    \"\"\"\n",
    "    Extract measure words and their paired numerals/nouns.\n",
    "    Args:\n",
    "        texts: List of Chinese sentences.\n",
    "    Returns:\n",
    "        - measure_freq: Dict of measure word frequencies.\n",
    "        - noun_pairs: Dict of {measure_word: [nouns]}.\n",
    "    \"\"\"\n",
    "    measure_freq = defaultdict(int)\n",
    "    noun_pairs = defaultdict(list)\n",
    "   \n",
    "    # Process texts in batches for efficiency\n",
    "    segs, hiddens = ltp.seg(texts)\n",
    "    pos_tags = ltp.pos(hiddens)\n",
    "   \n",
    "    for seg, pos in zip(segs, pos_tags):\n",
    "        for i, (word, tag) in enumerate(zip(seg, pos)):\n",
    "            if tag == 'q':  # Measure word detected\n",
    "                measure_freq[word] += 1\n",
    "                # Get preceding numeral (e.g., \"三\" in \"三本书\")\n",
    "                if i > 0 and pos[i-1] == 'm':\n",
    "                    numeral = seg[i-1]\n",
    "                else:\n",
    "                    numeral = \"?\"\n",
    "                # Get following noun (e.g., \"书\" in \"三本书\")\n",
    "                if i < len(seg)-1 and pos[i+1] == 'n':\n",
    "                    noun = seg[i+1]\n",
    "                    noun_pairs[word].append((numeral, noun))\n",
    "   \n",
    "    return measure_freq, noun_pairs\n",
    "\n",
    "# Example Usage\n",
    "corpus = [\n",
    "    \"三本书放在两张桌子上\",\n",
    "    \"她养了一只猫和两条狗\",\n",
    "    \"一颗苹果和五支笔\"\n",
    "]\n",
    "\n",
    "measure_freq, noun_pairs = detect_measure_words(corpus)\n",
    "\n",
    "# Print results\n",
    "print(\"=== Measure Word Frequency ===\")\n",
    "print(pd.DataFrame.from_dict(measure_freq, orient='index', columns=['Count']).sort_values('Count', ascending=False))\n",
    "\n",
    "print(\"\\n=== Noun Pairings ===\")\n",
    "for mw, pairs in noun_pairs.items():\n",
    "    print(f\"{mw}: {pairs}\")\n"
   ]
  }
 ],
 "metadata": {
  "kernelspec": {
   "display_name": "Python 3 (ipykernel)",
   "language": "python",
   "name": "python3"
  },
  "language_info": {
   "codemirror_mode": {
    "name": "ipython",
    "version": 3
   },
   "file_extension": ".py",
   "mimetype": "text/x-python",
   "name": "python",
   "nbconvert_exporter": "python",
   "pygments_lexer": "ipython3",
   "version": "3.12.9"
  }
 },
 "nbformat": 4,
 "nbformat_minor": 5
}
