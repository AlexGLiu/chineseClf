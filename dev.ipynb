{
 "cells": [
  {
   "cell_type": "code",
   "execution_count": 1,
   "id": "3a3d4663-89ff-4866-955b-757c94165d62",
   "metadata": {},
   "outputs": [
    {
     "name": "stderr",
     "output_type": "stream",
     "text": [
      "C:\\Users\\bullo\\.conda\\envs\\work\\Lib\\site-packages\\tqdm\\auto.py:21: TqdmWarning: IProgress not found. Please update jupyter and ipywidgets. See https://ipywidgets.readthedocs.io/en/stable/user_install.html\n",
      "  from .autonotebook import tqdm as notebook_tqdm\n"
     ]
    }
   ],
   "source": [
    "import pandas as pd\n",
    "import numpy as np\n",
    "import json\n",
    "import sys, os\n",
    "import torch\n",
    "from ltp import LTP\n",
    "from collections import defaultdict"
   ]
  },
  {
   "cell_type": "code",
   "execution_count": 6,
   "id": "e3efc9bb-ff13-4456-87db-482d3bf2e9b4",
   "metadata": {},
   "outputs": [],
   "source": [
    "from ltp import StnSplit"
   ]
  },
  {
   "cell_type": "code",
   "execution_count": 65,
   "id": "d4aa9d16-3de6-4b84-9615-97d75012edfb",
   "metadata": {},
   "outputs": [],
   "source": [
    "ltp = LTP()"
   ]
  },
  {
   "cell_type": "code",
   "execution_count": 2,
   "id": "998894a4-e6c8-41e4-a1dc-04c8297ef436",
   "metadata": {},
   "outputs": [],
   "source": [
    "data_dir = 'wiki_zh_2019/wiki_zh/'"
   ]
  },
  {
   "cell_type": "code",
   "execution_count": 3,
   "id": "81293a47-122a-404d-9b0b-a302b71c0dca",
   "metadata": {},
   "outputs": [],
   "source": [
    "folders = os.listdir(data_dir)"
   ]
  },
  {
   "cell_type": "code",
   "execution_count": 4,
   "id": "a9b79499-aaa4-44bb-acc3-53456c79f1e3",
   "metadata": {},
   "outputs": [
    {
     "data": {
      "text/plain": [
       "['AA', 'AB', 'AC', 'AD', 'AE', 'AF', 'AG', 'AH', 'AI', 'AJ', 'AK', 'AL', 'AM']"
      ]
     },
     "execution_count": 4,
     "metadata": {},
     "output_type": "execute_result"
    }
   ],
   "source": [
    "folders"
   ]
  },
  {
   "cell_type": "code",
   "execution_count": 69,
   "id": "93399395-2bc8-478d-b028-c1c30a000b05",
   "metadata": {},
   "outputs": [
    {
     "name": "stdout",
     "output_type": "stream",
     "text": [
      "科丽娜·卡萨诺瓦\n",
      "\n",
      "科丽娜·卡萨诺瓦（Corina Casanova，），生于伊兰茨，是一瑞士政治人物，2005年起获选为瑞士联邦委员会的副秘书长（Vizekanzler），并于2007年12月的选举中成为联邦秘书长（Bundeskanzler）。所属政党为瑞士基督教民主人民党，懂得英语、瑞士德语、西班牙语以及瑞士的四种官方语言。此外也曾经是红十字会在南非、安哥拉、尼加拉瓜以及萨尔瓦多的代表。\n",
      "\n",
      "\n"
     ]
    }
   ],
   "source": [
    "folder = np.random.choice(folders)\n",
    "files = os.listdir(os.path.join(data_dir, folder))\n",
    "file = np.random.choice(files)\n",
    "with open(os.path.join(data_dir, folder, file), 'r', encoding='utf-8') as file:\n",
    "    txt = file.readlines()\n",
    "file_num = np.random.choice(len(txt))\n",
    "print(json.loads(txt[file_num])['text'])"
   ]
  },
  {
   "cell_type": "code",
   "execution_count": 70,
   "id": "cf75b116-33ac-4602-8806-c50cf2f90acb",
   "metadata": {},
   "outputs": [],
   "source": [
    "sents = StnSplit().split(json.loads(txt[file_num])['text'])"
   ]
  },
  {
   "cell_type": "code",
   "execution_count": 71,
   "id": "d1668270-2865-4a95-aa90-b2c08a0d67a3",
   "metadata": {},
   "outputs": [
    {
     "data": {
      "text/plain": [
       "['科丽娜·卡萨诺瓦',\n",
       " '科丽娜·卡萨诺瓦（Corina Casanova，），生于伊兰茨，是一瑞士政治人物，2005年起获选为瑞士联邦委员会的副秘书长（Vizekanzler），并于2007年12月的选举中成为联邦秘书长（Bundeskanzler）。',\n",
       " '所属政党为瑞士基督教民主人民党，懂得英语、瑞士德语、西班牙语以及瑞士的四种官方语言。',\n",
       " '此外也曾经是红十字会在南非、安哥拉、尼加拉瓜以及萨尔瓦多的代表。']"
      ]
     },
     "execution_count": 71,
     "metadata": {},
     "output_type": "execute_result"
    }
   ],
   "source": [
    "sents"
   ]
  },
  {
   "cell_type": "code",
   "execution_count": 66,
   "id": "3b454a2f-0ba7-4e49-afc1-44b57512dfd0",
   "metadata": {},
   "outputs": [],
   "source": [
    "def find_noun(pos, noun_possible_ind):\n",
    "    while noun_possible_ind < len(pos):\n",
    "        if pos[noun_possible_ind] == 'wp':\n",
    "            break\n",
    "        else:\n",
    "            if pos[noun_possible_ind] == 'n':\n",
    "                return noun_possible_ind\n",
    "            else:\n",
    "                noun_possible_ind += 1\n",
    "                continue\n",
    "    return None\n"
   ]
  },
  {
   "cell_type": "code",
   "execution_count": 67,
   "id": "0a4de623-3068-464b-91b2-537f4eb13f73",
   "metadata": {},
   "outputs": [],
   "source": [
    "def find_quant(cws, pos):\n",
    "    result = []\n",
    "    n = len(cws)\n",
    "    if n <= 1:\n",
    "        return result\n",
    "    i = 0\n",
    "    while i < n:\n",
    "        if pos[i] == 'm' and i+1<n:\n",
    "            if pos[i+1] == 'n':\n",
    "                result.append((cws[i:i+2], pos[i:i+2]))\n",
    "                i = i+2\n",
    "            elif pos[i+1] == 'q':\n",
    "                noun_ind = find_noun(pos, i+2)\n",
    "                if noun_ind is not None:\n",
    "                    result.append((cws[i:noun_ind+1], pos[i:noun_ind+1]))\n",
    "                    i = noun_ind+1\n",
    "                else:\n",
    "                    i = i+2\n",
    "            else:\n",
    "                i += 1\n",
    "        else:\n",
    "            i += 1\n",
    "    return result\n",
    "\n",
    "            \n",
    "            \n",
    "                              "
   ]
  },
  {
   "cell_type": "code",
   "execution_count": 72,
   "id": "0c85897f-1eed-411f-8995-952010bdfd2e",
   "metadata": {},
   "outputs": [
    {
     "name": "stdout",
     "output_type": "stream",
     "text": [
      "科丽娜·卡萨诺瓦\n",
      "[]\n",
      "******************************************\n",
      "\n",
      "科丽娜·卡萨诺瓦（Corina Casanova，），生于伊兰茨，是一瑞士政治人物，2005年起获选为瑞士联邦委员会的副秘书长（Vizekanzler），并于2007年12月的选举中成为联邦秘书长（Bundeskanzler）。\n",
      "[]\n",
      "******************************************\n",
      "\n",
      "所属政党为瑞士基督教民主人民党，懂得英语、瑞士德语、西班牙语以及瑞士的四种官方语言。\n",
      "[(['四', '种', '官方'], ['m', 'q', 'n'])]\n",
      "******************************************\n",
      "\n",
      "此外也曾经是红十字会在南非、安哥拉、尼加拉瓜以及萨尔瓦多的代表。\n",
      "[]\n",
      "******************************************\n",
      "\n"
     ]
    }
   ],
   "source": [
    "for i in range(len(sents)):\n",
    "    print(sents[i])\n",
    "    result = ltp.pipeline(sents, tasks = [\"cws\",\"pos\"])\n",
    "    print(find_quant(result.cws[i], result.pos[i]))\n",
    "    print('******************************************\\n')"
   ]
  },
  {
   "cell_type": "code",
   "execution_count": 56,
   "id": "2b79f1ff-f94f-447a-80ec-4e8784a54f23",
   "metadata": {},
   "outputs": [
    {
     "data": {
      "text/plain": [
       "3"
      ]
     },
     "execution_count": 56,
     "metadata": {},
     "output_type": "execute_result"
    }
   ],
   "source": [
    "i"
   ]
  },
  {
   "cell_type": "code",
   "execution_count": 59,
   "id": "451ace1b-060c-400d-9f5a-c0e73e06f81b",
   "metadata": {},
   "outputs": [
    {
     "data": {
      "text/plain": [
       "'一'"
      ]
     },
     "execution_count": 59,
     "metadata": {},
     "output_type": "execute_result"
    }
   ],
   "source": [
    "result.cws[i][25]"
   ]
  },
  {
   "cell_type": "code",
   "execution_count": 58,
   "id": "f8bacaed-74d5-4598-bb2e-933c23d5d2ab",
   "metadata": {},
   "outputs": [
    {
     "data": {
      "text/plain": [
       "'m'"
      ]
     },
     "execution_count": 58,
     "metadata": {},
     "output_type": "execute_result"
    }
   ],
   "source": [
    "result.pos[i][25]"
   ]
  },
  {
   "cell_type": "code",
   "execution_count": 57,
   "id": "dbdcf350-28e6-44ec-835c-7268f5397ea6",
   "metadata": {},
   "outputs": [
    {
     "data": {
      "text/plain": [
       "(['在',\n",
       "  '转入',\n",
       "  '影视圈',\n",
       "  '之前',\n",
       "  '，',\n",
       "  '曾经',\n",
       "  '获得',\n",
       "  '欧洲',\n",
       "  '空手道',\n",
       "  '中',\n",
       "  '量级',\n",
       "  '冠军',\n",
       "  '，',\n",
       "  '所以',\n",
       "  '后来',\n",
       "  '他',\n",
       "  '所',\n",
       "  '饰演',\n",
       "  '的',\n",
       "  '电影',\n",
       "  '中',\n",
       "  '的',\n",
       "  '角色',\n",
       "  '，',\n",
       "  '无',\n",
       "  '一',\n",
       "  '不',\n",
       "  '有',\n",
       "  '过硬',\n",
       "  '利落',\n",
       "  '的',\n",
       "  '身手',\n",
       "  '。'],\n",
       " ['p',\n",
       "  'v',\n",
       "  'n',\n",
       "  'nd',\n",
       "  'wp',\n",
       "  'd',\n",
       "  'v',\n",
       "  'ns',\n",
       "  'n',\n",
       "  'nd',\n",
       "  'b',\n",
       "  'n',\n",
       "  'wp',\n",
       "  'c',\n",
       "  'nt',\n",
       "  'r',\n",
       "  'u',\n",
       "  'v',\n",
       "  'u',\n",
       "  'n',\n",
       "  'nd',\n",
       "  'u',\n",
       "  'n',\n",
       "  'wp',\n",
       "  'v',\n",
       "  'm',\n",
       "  'd',\n",
       "  'v',\n",
       "  'a',\n",
       "  'a',\n",
       "  'u',\n",
       "  'n',\n",
       "  'wp'])"
      ]
     },
     "execution_count": 57,
     "metadata": {},
     "output_type": "execute_result"
    }
   ],
   "source": [
    "result.cws[i], result.pos[i]"
   ]
  },
  {
   "cell_type": "code",
   "execution_count": 48,
   "id": "039cc842-4170-4615-9f12-17a8f6bcf7e8",
   "metadata": {},
   "outputs": [],
   "source": [
    "import ltp"
   ]
  },
  {
   "cell_type": "code",
   "execution_count": 49,
   "id": "20495f61-90e0-4152-977d-6f4354f84dce",
   "metadata": {},
   "outputs": [
    {
     "data": {
      "text/plain": [
       "['LTP',\n",
       " 'StnSplit',\n",
       " '__all__',\n",
       " '__builtins__',\n",
       " '__cached__',\n",
       " '__doc__',\n",
       " '__file__',\n",
       " '__loader__',\n",
       " '__name__',\n",
       " '__package__',\n",
       " '__path__',\n",
       " '__spec__',\n",
       " '__version__',\n",
       " 'generic',\n",
       " 'interface',\n",
       " 'legacy',\n",
       " 'mixin',\n",
       " 'module',\n",
       " 'nerual',\n",
       " 'utils']"
      ]
     },
     "execution_count": 49,
     "metadata": {},
     "output_type": "execute_result"
    }
   ],
   "source": [
    "dir(ltp)"
   ]
  },
  {
   "cell_type": "code",
   "execution_count": 51,
   "id": "5dcef1d7-d238-49f2-b0e7-06e3df76f4a1",
   "metadata": {},
   "outputs": [
    {
     "name": "stdout",
     "output_type": "stream",
     "text": [
      "4.2.13\n"
     ]
    }
   ],
   "source": [
    "print(ltp.__version__)"
   ]
  },
  {
   "cell_type": "code",
   "execution_count": 46,
   "id": "bde0e057-4c5c-4bfe-9ccc-ad661b5455a8",
   "metadata": {},
   "outputs": [
    {
     "ename": "AttributeError",
     "evalue": "'LTP' object has no attribute 'sent_split'",
     "output_type": "error",
     "traceback": [
      "\u001b[1;31m---------------------------------------------------------------------------\u001b[0m",
      "\u001b[1;31mAttributeError\u001b[0m                            Traceback (most recent call last)",
      "Cell \u001b[1;32mIn[46], line 3\u001b[0m\n\u001b[0;32m      1\u001b[0m \u001b[38;5;28;01mfrom\u001b[39;00m \u001b[38;5;21;01mltp\u001b[39;00m \u001b[38;5;28;01mimport\u001b[39;00m LTP\n\u001b[0;32m      2\u001b[0m ltp \u001b[38;5;241m=\u001b[39m LTP()\n\u001b[1;32m----> 3\u001b[0m sents \u001b[38;5;241m=\u001b[39m ltp\u001b[38;5;241m.\u001b[39msent_split([\u001b[38;5;124m\"\u001b[39m\u001b[38;5;124m他叫汤姆去拿外衣。\u001b[39m\u001b[38;5;124m\"\u001b[39m, \u001b[38;5;124m\"\u001b[39m\u001b[38;5;124m汤姆生病了。他去了医院。\u001b[39m\u001b[38;5;124m\"\u001b[39m])\n",
      "File \u001b[1;32m~\\.conda\\envs\\work\\Lib\\site-packages\\torch\\nn\\modules\\module.py:1928\u001b[0m, in \u001b[0;36mModule.__getattr__\u001b[1;34m(self, name)\u001b[0m\n\u001b[0;32m   1926\u001b[0m     \u001b[38;5;28;01mif\u001b[39;00m name \u001b[38;5;129;01min\u001b[39;00m modules:\n\u001b[0;32m   1927\u001b[0m         \u001b[38;5;28;01mreturn\u001b[39;00m modules[name]\n\u001b[1;32m-> 1928\u001b[0m \u001b[38;5;28;01mraise\u001b[39;00m \u001b[38;5;167;01mAttributeError\u001b[39;00m(\n\u001b[0;32m   1929\u001b[0m     \u001b[38;5;124mf\u001b[39m\u001b[38;5;124m\"\u001b[39m\u001b[38;5;124m'\u001b[39m\u001b[38;5;132;01m{\u001b[39;00m\u001b[38;5;28mtype\u001b[39m(\u001b[38;5;28mself\u001b[39m)\u001b[38;5;241m.\u001b[39m\u001b[38;5;18m__name__\u001b[39m\u001b[38;5;132;01m}\u001b[39;00m\u001b[38;5;124m'\u001b[39m\u001b[38;5;124m object has no attribute \u001b[39m\u001b[38;5;124m'\u001b[39m\u001b[38;5;132;01m{\u001b[39;00mname\u001b[38;5;132;01m}\u001b[39;00m\u001b[38;5;124m'\u001b[39m\u001b[38;5;124m\"\u001b[39m\n\u001b[0;32m   1930\u001b[0m )\n",
      "\u001b[1;31mAttributeError\u001b[0m: 'LTP' object has no attribute 'sent_split'"
     ]
    }
   ],
   "source": [
    "from ltp import LTP\n",
    "ltp = LTP()\n",
    "sents = ltp.sent_split([\"他叫汤姆去拿外衣。\", \"汤姆生病了。他去了医院。\"])"
   ]
  },
  {
   "cell_type": "code",
   "execution_count": 44,
   "id": "ab805ef8-9a3f-4e35-8bb9-d1be3aa28b61",
   "metadata": {},
   "outputs": [],
   "source": [
    "# Initialize LTP (download model automatically)\n",
    "ltp = LTP(\"LTP/small\") "
   ]
  },
  {
   "cell_type": "code",
   "execution_count": 45,
   "id": "4d5f4992-cb12-4c1a-87ff-3b112c7d17dc",
   "metadata": {
    "scrolled": true
   },
   "outputs": [
    {
     "data": {
      "text/plain": [
       "['T_destination',\n",
       " '_BaseModule__update_properties',\n",
       " '__annotations__',\n",
       " '__call__',\n",
       " '__class__',\n",
       " '__delattr__',\n",
       " '__dict__',\n",
       " '__dir__',\n",
       " '__doc__',\n",
       " '__eq__',\n",
       " '__format__',\n",
       " '__ge__',\n",
       " '__getattr__',\n",
       " '__getattribute__',\n",
       " '__getstate__',\n",
       " '__gt__',\n",
       " '__hash__',\n",
       " '__init__',\n",
       " '__init_subclass__',\n",
       " '__jit_unused_properties__',\n",
       " '__le__',\n",
       " '__lt__',\n",
       " '__module__',\n",
       " '__ne__',\n",
       " '__new__',\n",
       " '__reduce__',\n",
       " '__reduce_ex__',\n",
       " '__repr__',\n",
       " '__setattr__',\n",
       " '__setstate__',\n",
       " '__sizeof__',\n",
       " '__str__',\n",
       " '__subclasshook__',\n",
       " '__weakref__',\n",
       " '_apply',\n",
       " '_backward_hooks',\n",
       " '_backward_pre_hooks',\n",
       " '_buffers',\n",
       " '_call_impl',\n",
       " '_check',\n",
       " '_compiled_call_impl',\n",
       " '_cws_post',\n",
       " '_dep_post',\n",
       " '_device',\n",
       " '_dtype',\n",
       " '_forward_hooks',\n",
       " '_forward_hooks_always_called',\n",
       " '_forward_hooks_with_kwargs',\n",
       " '_forward_pre_hooks',\n",
       " '_forward_pre_hooks_with_kwargs',\n",
       " '_from_pretrained',\n",
       " '_get_backward_hooks',\n",
       " '_get_backward_pre_hooks',\n",
       " '_get_name',\n",
       " '_is_full_backward_hook',\n",
       " '_load_from_state_dict',\n",
       " '_load_state_dict_post_hooks',\n",
       " '_load_state_dict_pre_hooks',\n",
       " '_maybe_warn_non_full_backward_hook',\n",
       " '_modules',\n",
       " '_named_members',\n",
       " '_ner_post',\n",
       " '_non_persistent_buffers_set',\n",
       " '_parameters',\n",
       " '_pos_post',\n",
       " '_register_load_state_dict_pre_hook',\n",
       " '_register_state_dict_hook',\n",
       " '_replicate_for_data_parallel',\n",
       " '_save_to_state_dict',\n",
       " '_sdp_post',\n",
       " '_sdpg_post',\n",
       " '_slow_forward',\n",
       " '_srl_post',\n",
       " '_state_dict_hooks',\n",
       " '_state_dict_pre_hooks',\n",
       " '_version',\n",
       " '_wrapped_call_impl',\n",
       " 'add_module',\n",
       " 'add_word',\n",
       " 'add_words',\n",
       " 'apply',\n",
       " 'bfloat16',\n",
       " 'buffers',\n",
       " 'call_super_init',\n",
       " 'children',\n",
       " 'compile',\n",
       " 'cpu',\n",
       " 'cuda',\n",
       " 'cws_vocab',\n",
       " 'dep_vocab',\n",
       " 'device',\n",
       " 'double',\n",
       " 'download',\n",
       " 'dtype',\n",
       " 'dump_patches',\n",
       " 'eval',\n",
       " 'extra_repr',\n",
       " 'float',\n",
       " 'forward',\n",
       " 'from_pretrained',\n",
       " 'get_buffer',\n",
       " 'get_extra_state',\n",
       " 'get_graph_entities',\n",
       " 'get_parameter',\n",
       " 'get_submodule',\n",
       " 'half',\n",
       " 'hook',\n",
       " 'ipu',\n",
       " 'load_state_dict',\n",
       " 'model',\n",
       " 'modules',\n",
       " 'mtia',\n",
       " 'named_buffers',\n",
       " 'named_children',\n",
       " 'named_modules',\n",
       " 'named_parameters',\n",
       " 'ner_vocab',\n",
       " 'parameters',\n",
       " 'pipeline',\n",
       " 'pos_vocab',\n",
       " 'post',\n",
       " 'register_backward_hook',\n",
       " 'register_buffer',\n",
       " 'register_forward_hook',\n",
       " 'register_forward_pre_hook',\n",
       " 'register_full_backward_hook',\n",
       " 'register_full_backward_pre_hook',\n",
       " 'register_load_state_dict_post_hook',\n",
       " 'register_load_state_dict_pre_hook',\n",
       " 'register_module',\n",
       " 'register_parameter',\n",
       " 'register_state_dict_post_hook',\n",
       " 'register_state_dict_pre_hook',\n",
       " 'requires_grad_',\n",
       " 'sdp_vocab',\n",
       " 'set_extra_state',\n",
       " 'set_submodule',\n",
       " 'share_memory',\n",
       " 'srl_vocab',\n",
       " 'state_dict',\n",
       " 'supported_tasks',\n",
       " 'to',\n",
       " 'to_empty',\n",
       " 'tokenizer',\n",
       " 'train',\n",
       " 'training',\n",
       " 'type',\n",
       " 'version',\n",
       " 'xpu',\n",
       " 'zero_grad']"
      ]
     },
     "execution_count": 45,
     "metadata": {},
     "output_type": "execute_result"
    }
   ],
   "source": [
    "dir(ltp)"
   ]
  },
  {
   "cell_type": "code",
   "execution_count": null,
   "id": "08fc6c4c-f6a9-4772-b055-05613468a3ec",
   "metadata": {},
   "outputs": [],
   "source": [
    "ltp.sent"
   ]
  },
  {
   "cell_type": "code",
   "execution_count": 17,
   "id": "dfec9619-02bc-47f8-ab3a-76778253eed8",
   "metadata": {},
   "outputs": [],
   "source": [
    "if torch.cuda.is_available():\n",
    "    # ltp.cuda()\n",
    "    ltp.to(\"cuda\")"
   ]
  },
  {
   "cell_type": "code",
   "execution_count": 3,
   "id": "c5965f4e-1c22-4eb3-a962-fe503345526d",
   "metadata": {},
   "outputs": [
    {
     "data": {
      "text/plain": [
       "True"
      ]
     },
     "execution_count": 3,
     "metadata": {},
     "output_type": "execute_result"
    }
   ],
   "source": [
    "torch.cuda.is_available()"
   ]
  },
  {
   "cell_type": "code",
   "execution_count": 39,
   "id": "eaed0008-0be4-4723-a723-769da0548c50",
   "metadata": {},
   "outputs": [],
   "source": [
    "output = ltp.pipeline([json.loads(txt[file_num])['text']], tasks=[\"cws\", \"pos\", \"ner\", \"srl\", \"dep\", \"sdp\"])"
   ]
  },
  {
   "cell_type": "code",
   "execution_count": 41,
   "id": "79df6191-4d8c-4675-a981-1430707b7a62",
   "metadata": {},
   "outputs": [],
   "source": [
    "output = ltp.pipeline([\"一些国家\"], tasks=[\"cws\", \"pos\", \"ner\", \"srl\", \"dep\", \"sdp\"])"
   ]
  },
  {
   "cell_type": "code",
   "execution_count": 42,
   "id": "8c222627-53bb-4993-8d0d-51eb2464b810",
   "metadata": {},
   "outputs": [
    {
     "data": {
      "text/plain": [
       "{'一些': 'm', '国家': 'n'}"
      ]
     },
     "execution_count": 42,
     "metadata": {},
     "output_type": "execute_result"
    }
   ],
   "source": [
    "dict((zip(output.cws[0], output.pos[0])))"
   ]
  },
  {
   "cell_type": "code",
   "execution_count": 26,
   "id": "62b27a5e-3463-41a3-b4a6-5e3d0e729ff7",
   "metadata": {},
   "outputs": [
    {
     "name": "stdout",
     "output_type": "stream",
     "text": [
      "[['卢金\\n\\n卢金', '（', '西班牙语', '：', '）', '，', '是', '西班牙', '纳瓦拉', '的', '一个', '市镇', '。', '总面积', '8', '平方公里', '，', '总人口', '128', '人', '（', '2001年', '）', '，', '人口', '密度', '16', '人/', '平方公里', '。\\n']]\n",
      "[['nh', 'wp', 'nz', 'wp', 'wp', 'wp', 'v', 'ns', 'ns', 'u', 'm', 'n', 'wp', 'n', 'm', 'q', 'wp', 'n', 'm', 'n', 'wp', 'nt', 'wp', 'wp', 'n', 'n', 'm', 'n', 'q', 'wp']]\n",
      "[{'head': [7, 3, 7, 3, 3, 3, 0, 9, 12, 9, 12, 7, 7, 16, 16, 7, 16, 20, 20, 16, 22, 20, 22, 20, 26, 29, 29, 29, 20, 29], 'label': ['EXP', 'mPUNC', 'dSTAT', 'mPUNC', 'mPUNC', 'mPUNC', 'Root', 'FEAT', 'FEAT', 'mDEPD', 'MEAS', 'LINK', 'mPUNC', 'EXP', 'MEAS', 'eSUCC', 'mPUNC', 'EXP', 'MEAS', 'eCOO', 'mPUNC', 'TIME', 'mPUNC', 'mPUNC', 'FEAT', 'EXP', 'MEAS', 'eCOO', 'eSUCC', 'mPUNC']}]\n"
     ]
    }
   ],
   "source": [
    "print(output.cws)  # print(output[0]) / print(output['cws']) # 也可以使用下标访问\n",
    "print(output.pos)\n",
    "print(output.sdp)"
   ]
  },
  {
   "cell_type": "code",
   "execution_count": 11,
   "id": "34135ffe-7782-4e16-908b-835b333a2042",
   "metadata": {},
   "outputs": [
    {
     "name": "stderr",
     "output_type": "stream",
     "text": [
      "C:\\Users\\bullo\\.conda\\envs\\work\\Lib\\site-packages\\tqdm\\auto.py:21: TqdmWarning: IProgress not found. Please update jupyter and ipywidgets. See https://ipywidgets.readthedocs.io/en/stable/user_install.html\n",
      "  from .autonotebook import tqdm as notebook_tqdm\n"
     ]
    },
    {
     "ename": "AttributeError",
     "evalue": "'LTP' object has no attribute 'seg'",
     "output_type": "error",
     "traceback": [
      "\u001b[1;31m---------------------------------------------------------------------------\u001b[0m",
      "\u001b[1;31mAttributeError\u001b[0m                            Traceback (most recent call last)",
      "Cell \u001b[1;32mIn[11], line 47\u001b[0m\n\u001b[0;32m     40\u001b[0m \u001b[38;5;66;03m# Example Usage\u001b[39;00m\n\u001b[0;32m     41\u001b[0m corpus \u001b[38;5;241m=\u001b[39m [\n\u001b[0;32m     42\u001b[0m     \u001b[38;5;124m\"\u001b[39m\u001b[38;5;124m三本书放在两张桌子上\u001b[39m\u001b[38;5;124m\"\u001b[39m,\n\u001b[0;32m     43\u001b[0m     \u001b[38;5;124m\"\u001b[39m\u001b[38;5;124m她养了一只猫和两条狗\u001b[39m\u001b[38;5;124m\"\u001b[39m,\n\u001b[0;32m     44\u001b[0m     \u001b[38;5;124m\"\u001b[39m\u001b[38;5;124m一颗苹果和五支笔\u001b[39m\u001b[38;5;124m\"\u001b[39m\n\u001b[0;32m     45\u001b[0m ]\n\u001b[1;32m---> 47\u001b[0m measure_freq, noun_pairs \u001b[38;5;241m=\u001b[39m detect_measure_words(corpus)\n\u001b[0;32m     49\u001b[0m \u001b[38;5;66;03m# Print results\u001b[39;00m\n\u001b[0;32m     50\u001b[0m \u001b[38;5;28mprint\u001b[39m(\u001b[38;5;124m\"\u001b[39m\u001b[38;5;124m=== Measure Word Frequency ===\u001b[39m\u001b[38;5;124m\"\u001b[39m)\n",
      "Cell \u001b[1;32mIn[11], line 21\u001b[0m, in \u001b[0;36mdetect_measure_words\u001b[1;34m(texts)\u001b[0m\n\u001b[0;32m     18\u001b[0m noun_pairs \u001b[38;5;241m=\u001b[39m defaultdict(\u001b[38;5;28mlist\u001b[39m)\n\u001b[0;32m     20\u001b[0m \u001b[38;5;66;03m# Process texts in batches for efficiency\u001b[39;00m\n\u001b[1;32m---> 21\u001b[0m segs, hiddens \u001b[38;5;241m=\u001b[39m ltp\u001b[38;5;241m.\u001b[39mseg(texts)\n\u001b[0;32m     22\u001b[0m pos_tags \u001b[38;5;241m=\u001b[39m ltp\u001b[38;5;241m.\u001b[39mpos(hiddens)\n\u001b[0;32m     24\u001b[0m \u001b[38;5;28;01mfor\u001b[39;00m seg, pos \u001b[38;5;129;01min\u001b[39;00m \u001b[38;5;28mzip\u001b[39m(segs, pos_tags):\n",
      "File \u001b[1;32m~\\.conda\\envs\\work\\Lib\\site-packages\\torch\\nn\\modules\\module.py:1928\u001b[0m, in \u001b[0;36mModule.__getattr__\u001b[1;34m(self, name)\u001b[0m\n\u001b[0;32m   1926\u001b[0m     \u001b[38;5;28;01mif\u001b[39;00m name \u001b[38;5;129;01min\u001b[39;00m modules:\n\u001b[0;32m   1927\u001b[0m         \u001b[38;5;28;01mreturn\u001b[39;00m modules[name]\n\u001b[1;32m-> 1928\u001b[0m \u001b[38;5;28;01mraise\u001b[39;00m \u001b[38;5;167;01mAttributeError\u001b[39;00m(\n\u001b[0;32m   1929\u001b[0m     \u001b[38;5;124mf\u001b[39m\u001b[38;5;124m\"\u001b[39m\u001b[38;5;124m'\u001b[39m\u001b[38;5;132;01m{\u001b[39;00m\u001b[38;5;28mtype\u001b[39m(\u001b[38;5;28mself\u001b[39m)\u001b[38;5;241m.\u001b[39m\u001b[38;5;18m__name__\u001b[39m\u001b[38;5;132;01m}\u001b[39;00m\u001b[38;5;124m'\u001b[39m\u001b[38;5;124m object has no attribute \u001b[39m\u001b[38;5;124m'\u001b[39m\u001b[38;5;132;01m{\u001b[39;00mname\u001b[38;5;132;01m}\u001b[39;00m\u001b[38;5;124m'\u001b[39m\u001b[38;5;124m\"\u001b[39m\n\u001b[0;32m   1930\u001b[0m )\n",
      "\u001b[1;31mAttributeError\u001b[0m: 'LTP' object has no attribute 'seg'"
     ]
    }
   ],
   "source": [
    "from ltp import LTP\n",
    "from collections import defaultdict\n",
    "import pandas as pd\n",
    "\n",
    "# Initialize LTP (download model automatically)\n",
    "ltp = LTP()\n",
    "\n",
    "def detect_measure_words(texts):\n",
    "    \"\"\"\n",
    "    Extract measure words and their paired numerals/nouns.\n",
    "    Args:\n",
    "        texts: List of Chinese sentences.\n",
    "    Returns:\n",
    "        - measure_freq: Dict of measure word frequencies.\n",
    "        - noun_pairs: Dict of {measure_word: [nouns]}.\n",
    "    \"\"\"\n",
    "    measure_freq = defaultdict(int)\n",
    "    noun_pairs = defaultdict(list)\n",
    "   \n",
    "    # Process texts in batches for efficiency\n",
    "    segs, hiddens = ltp.seg(texts)\n",
    "    pos_tags = ltp.pos(hiddens)\n",
    "   \n",
    "    for seg, pos in zip(segs, pos_tags):\n",
    "        for i, (word, tag) in enumerate(zip(seg, pos)):\n",
    "            if tag == 'q':  # Measure word detected\n",
    "                measure_freq[word] += 1\n",
    "                # Get preceding numeral (e.g., \"三\" in \"三本书\")\n",
    "                if i > 0 and pos[i-1] == 'm':\n",
    "                    numeral = seg[i-1]\n",
    "                else:\n",
    "                    numeral = \"?\"\n",
    "                # Get following noun (e.g., \"书\" in \"三本书\")\n",
    "                if i < len(seg)-1 and pos[i+1] == 'n':\n",
    "                    noun = seg[i+1]\n",
    "                    noun_pairs[word].append((numeral, noun))\n",
    "   \n",
    "    return measure_freq, noun_pairs\n",
    "\n",
    "# Example Usage\n",
    "corpus = [\n",
    "    \"三本书放在两张桌子上\",\n",
    "    \"她养了一只猫和两条狗\",\n",
    "    \"一颗苹果和五支笔\"\n",
    "]\n",
    "\n",
    "measure_freq, noun_pairs = detect_measure_words(corpus)\n",
    "\n",
    "# Print results\n",
    "print(\"=== Measure Word Frequency ===\")\n",
    "print(pd.DataFrame.from_dict(measure_freq, orient='index', columns=['Count']).sort_values('Count', ascending=False))\n",
    "\n",
    "print(\"\\n=== Noun Pairings ===\")\n",
    "for mw, pairs in noun_pairs.items():\n",
    "    print(f\"{mw}: {pairs}\")\n"
   ]
  },
  {
   "cell_type": "code",
   "execution_count": null,
   "id": "3bf35220-65f5-4552-b424-7f53a9e91361",
   "metadata": {},
   "outputs": [],
   "source": []
  }
 ],
 "metadata": {
  "kernelspec": {
   "display_name": "Python 3 (ipykernel)",
   "language": "python",
   "name": "python3"
  },
  "language_info": {
   "codemirror_mode": {
    "name": "ipython",
    "version": 3
   },
   "file_extension": ".py",
   "mimetype": "text/x-python",
   "name": "python",
   "nbconvert_exporter": "python",
   "pygments_lexer": "ipython3",
   "version": "3.12.9"
  }
 },
 "nbformat": 4,
 "nbformat_minor": 5
}
